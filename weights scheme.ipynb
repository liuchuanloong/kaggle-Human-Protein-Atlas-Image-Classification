{
 "cells": [
  {
   "cell_type": "markdown",
   "metadata": {},
   "source": [
    "##### Tilii的方案 https://www.kaggle.com/c/human-protein-atlas-image-classification/discussion/74065"
   ]
  },
  {
   "cell_type": "code",
   "execution_count": 26,
   "metadata": {},
   "outputs": [
    {
     "name": "stdout",
     "output_type": "stream",
     "text": [
      "\n",
      "True class weights:\n",
      "{0: 3.94, 1: 40.5, 2: 14.02, 3: 32.53, 4: 27.33, 5: 20.21, 6: 50.38, 7: 18.0, 8: 958.15, 9: 1128.49, 10: 1813.64, 11: 46.46, 12: 73.81, 13: 94.57, 14: 47.64, 15: 2418.19, 16: 95.82, 17: 241.82, 18: 56.3, 19: 34.27, 20: 295.24, 21: 13.45, 22: 63.32, 23: 17.13, 24: 157.71, 25: 6.17, 26: 154.82, 27: 4616.55}\n",
      "\n",
      "Log-dampened class weights:\n",
      "{0: 1.37, 1: 3.7, 2: 2.64, 3: 3.48, 4: 3.31, 5: 3.01, 6: 3.92, 7: 2.89, 8: 6.87, 9: 7.03, 10: 7.5, 11: 3.84, 12: 4.3, 13: 4.55, 14: 3.86, 15: 7.79, 16: 4.56, 17: 5.49, 18: 4.03, 19: 3.53, 20: 5.69, 21: 2.6, 22: 4.15, 23: 2.84, 24: 5.06, 25: 1.82, 26: 5.04, 27: 8.44}\n"
     ]
    }
   ],
   "source": [
    "#mu in \"create_class_weight\" is a dampening parameter that could be tuned\n",
    "\n",
    "import numpy as np\n",
    "import math\n",
    "\n",
    "def create_class_weight(labels_dict, mu=1):\n",
    "    total = 0\n",
    "    for k, v in labels_dict.items():\n",
    "        total += v\n",
    "#     print(total)\n",
    "    keys = labels_dict.keys()\n",
    "    class_weight = dict()\n",
    "    class_weight_log = dict()\n",
    "\n",
    "    for key in keys:\n",
    "        score = total / float(labels_dict[key])\n",
    "        score_log = math.log(mu * total / float(labels_dict[key]))\n",
    "        class_weight[key] = round(score, 2) if score > 1.0 else round(1.0, 2)\n",
    "        class_weight_log[key] = round(score_log, 2) if score_log > 1.0 else round(1.0, 2)\n",
    "\n",
    "    return class_weight, class_weight_log\n",
    "\n",
    "# Class abundance for protein dataset\n",
    "labels_dict = {\n",
    "    0: 12885,\n",
    "    1: 1254,\n",
    "    2: 3621,\n",
    "    3: 1561,\n",
    "    4: 1858,\n",
    "    5: 2513,\n",
    "    6: 1008,\n",
    "    7: 2822,\n",
    "    8: 53,\n",
    "    9: 45,\n",
    "    10: 28,\n",
    "    11: 1093,\n",
    "    12: 688,\n",
    "    13: 537,\n",
    "    14: 1066,\n",
    "    15: 21,\n",
    "    16: 530,\n",
    "    17: 210,\n",
    "    18: 902,\n",
    "    19: 1482,\n",
    "    20: 172,\n",
    "    21: 3777,\n",
    "    22: 802,\n",
    "    23: 2965,\n",
    "    24: 322,\n",
    "    25: 8228,\n",
    "    26: 328,\n",
    "    27: 11\n",
    "}\n",
    "print('\\nTrue class weights:')\n",
    "print(create_class_weight(labels_dict)[0])\n",
    "print('\\nLog-dampened class weights:')\n",
    "print(create_class_weight(labels_dict)[1])"
   ]
  },
  {
   "cell_type": "code",
   "execution_count": 27,
   "metadata": {},
   "outputs": [
    {
     "data": {
      "text/html": [
       "<div>\n",
       "<style scoped>\n",
       "    .dataframe tbody tr th:only-of-type {\n",
       "        vertical-align: middle;\n",
       "    }\n",
       "\n",
       "    .dataframe tbody tr th {\n",
       "        vertical-align: top;\n",
       "    }\n",
       "\n",
       "    .dataframe thead th {\n",
       "        text-align: right;\n",
       "    }\n",
       "</style>\n",
       "<table border=\"1\" class=\"dataframe\">\n",
       "  <thead>\n",
       "    <tr style=\"text-align: right;\">\n",
       "      <th></th>\n",
       "      <th>0</th>\n",
       "      <th>1</th>\n",
       "      <th>2</th>\n",
       "      <th>3</th>\n",
       "      <th>4</th>\n",
       "      <th>5</th>\n",
       "      <th>6</th>\n",
       "      <th>7</th>\n",
       "      <th>8</th>\n",
       "      <th>9</th>\n",
       "      <th>...</th>\n",
       "      <th>18</th>\n",
       "      <th>19</th>\n",
       "      <th>20</th>\n",
       "      <th>21</th>\n",
       "      <th>22</th>\n",
       "      <th>23</th>\n",
       "      <th>24</th>\n",
       "      <th>25</th>\n",
       "      <th>26</th>\n",
       "      <th>27</th>\n",
       "    </tr>\n",
       "  </thead>\n",
       "  <tbody>\n",
       "    <tr>\n",
       "      <th>0</th>\n",
       "      <td>3.94</td>\n",
       "      <td>40.5</td>\n",
       "      <td>14.02</td>\n",
       "      <td>32.53</td>\n",
       "      <td>27.33</td>\n",
       "      <td>20.21</td>\n",
       "      <td>50.38</td>\n",
       "      <td>18.0</td>\n",
       "      <td>958.15</td>\n",
       "      <td>1128.49</td>\n",
       "      <td>...</td>\n",
       "      <td>56.3</td>\n",
       "      <td>34.27</td>\n",
       "      <td>295.24</td>\n",
       "      <td>13.45</td>\n",
       "      <td>63.32</td>\n",
       "      <td>17.13</td>\n",
       "      <td>157.71</td>\n",
       "      <td>6.17</td>\n",
       "      <td>154.82</td>\n",
       "      <td>4616.55</td>\n",
       "    </tr>\n",
       "  </tbody>\n",
       "</table>\n",
       "<p>1 rows × 28 columns</p>\n",
       "</div>"
      ],
      "text/plain": [
       "     0     1      2      3      4      5      6     7       8        9   \\\n",
       "0  3.94  40.5  14.02  32.53  27.33  20.21  50.38  18.0  958.15  1128.49   \n",
       "\n",
       "    ...       18     19      20     21     22     23      24    25      26  \\\n",
       "0   ...     56.3  34.27  295.24  13.45  63.32  17.13  157.71  6.17  154.82   \n",
       "\n",
       "        27  \n",
       "0  4616.55  \n",
       "\n",
       "[1 rows x 28 columns]"
      ]
     },
     "execution_count": 27,
     "metadata": {},
     "output_type": "execute_result"
    }
   ],
   "source": [
    "import matplotlib.pyplot as plt\n",
    "import pandas as pd\n",
    "import seaborn as sns\n",
    "True_weights = create_class_weight(labels_dict)[0]\n",
    "true_weights_dict = pd.DataFrame([True_weights], index=[0])\n",
    "true_weights_dict.head()\n",
    "# print(true_weights_dict.loc[0])\n"
   ]
  },
  {
   "cell_type": "code",
   "execution_count": 28,
   "metadata": {},
   "outputs": [
    {
     "data": {
      "text/plain": [
       "<matplotlib.axes._subplots.AxesSubplot at 0x7f3cefb29ef0>"
      ]
     },
     "execution_count": 28,
     "metadata": {},
     "output_type": "execute_result"
    },
    {
     "data": {
      "image/png": "[encoded data removed]",
      "text/plain": [
       "<Figure size 720x720 with 1 Axes>"
      ]
     },
     "metadata": {
      "needs_background": "light"
     },
     "output_type": "display_data"
    }
   ],
   "source": [
    "plt.figure(figsize=(10,10))\n",
    "sns.barplot(x=true_weights_dict.columns, y=true_weights_dict.loc[0], order=true_weights_dict.columns)"
   ]
  },
  {
   "cell_type": "code",
   "execution_count": 29,
   "metadata": {},
   "outputs": [
    {
     "data": {
      "text/html": [
       "<div>\n",
       "<style scoped>\n",
       "    .dataframe tbody tr th:only-of-type {\n",
       "        vertical-align: middle;\n",
       "    }\n",
       "\n",
       "    .dataframe tbody tr th {\n",
       "        vertical-align: top;\n",
       "    }\n",
       "\n",
       "    .dataframe thead th {\n",
       "        text-align: right;\n",
       "    }\n",
       "</style>\n",
       "<table border=\"1\" class=\"dataframe\">\n",
       "  <thead>\n",
       "    <tr style=\"text-align: right;\">\n",
       "      <th></th>\n",
       "      <th>0</th>\n",
       "      <th>1</th>\n",
       "      <th>2</th>\n",
       "      <th>3</th>\n",
       "      <th>4</th>\n",
       "      <th>5</th>\n",
       "      <th>6</th>\n",
       "      <th>7</th>\n",
       "      <th>8</th>\n",
       "      <th>9</th>\n",
       "      <th>...</th>\n",
       "      <th>18</th>\n",
       "      <th>19</th>\n",
       "      <th>20</th>\n",
       "      <th>21</th>\n",
       "      <th>22</th>\n",
       "      <th>23</th>\n",
       "      <th>24</th>\n",
       "      <th>25</th>\n",
       "      <th>26</th>\n",
       "      <th>27</th>\n",
       "    </tr>\n",
       "  </thead>\n",
       "  <tbody>\n",
       "    <tr>\n",
       "      <th>0</th>\n",
       "      <td>1.37</td>\n",
       "      <td>3.7</td>\n",
       "      <td>2.64</td>\n",
       "      <td>3.48</td>\n",
       "      <td>3.31</td>\n",
       "      <td>3.01</td>\n",
       "      <td>3.92</td>\n",
       "      <td>2.89</td>\n",
       "      <td>6.87</td>\n",
       "      <td>7.03</td>\n",
       "      <td>...</td>\n",
       "      <td>4.03</td>\n",
       "      <td>3.53</td>\n",
       "      <td>5.69</td>\n",
       "      <td>2.6</td>\n",
       "      <td>4.15</td>\n",
       "      <td>2.84</td>\n",
       "      <td>5.06</td>\n",
       "      <td>1.82</td>\n",
       "      <td>5.04</td>\n",
       "      <td>8.44</td>\n",
       "    </tr>\n",
       "  </tbody>\n",
       "</table>\n",
       "<p>1 rows × 28 columns</p>\n",
       "</div>"
      ],
      "text/plain": [
       "     0    1     2     3     4     5     6     7     8     9   ...     18  \\\n",
       "0  1.37  3.7  2.64  3.48  3.31  3.01  3.92  2.89  6.87  7.03  ...   4.03   \n",
       "\n",
       "     19    20   21    22    23    24    25    26    27  \n",
       "0  3.53  5.69  2.6  4.15  2.84  5.06  1.82  5.04  8.44  \n",
       "\n",
       "[1 rows x 28 columns]"
      ]
     },
     "execution_count": 29,
     "metadata": {},
     "output_type": "execute_result"
    }
   ],
   "source": [
    "log_weights = create_class_weight(labels_dict)[1]\n",
    "log_weights_dict = pd.DataFrame([log_weights], index=[0])\n",
    "log_weights_dict.head()"
   ]
  },
  {
   "cell_type": "code",
   "execution_count": 30,
   "metadata": {},
   "outputs": [
    {
     "data": {
      "text/plain": [
       "<matplotlib.axes._subplots.AxesSubplot at 0x7f3cef9ee780>"
      ]
     },
     "execution_count": 30,
     "metadata": {},
     "output_type": "execute_result"
    },
    {
     "data": {
      "image/png": "[encoded data removed]",
      "text/plain": [
       "<Figure size 720x720 with 1 Axes>"
      ]
     },
     "metadata": {
      "needs_background": "light"
     },
     "output_type": "display_data"
    }
   ],
   "source": [
    "plt.figure(figsize=(10,10))\n",
    "sns.barplot(x=log_weights_dict.columns, y=log_weights_dict.loc[0], order=log_weights_dict.columns)"
   ]
  },
  {
   "cell_type": "markdown",
   "metadata": {},
   "source": [
    "###### Mark Worrall 的方案\n",
    "Another (simple) approach is just to use a linear interpolation of the prior probability of a label being in a class towards equal weights.\n",
    "\n",
    "In the below, setting mu = 0 is the original probability distribution and as mu increases we (linearly) tend to the distribution with all class weights equal (the maximum entropy distribution).\n",
    "\n"
   ]
  },
  {
   "cell_type": "code",
   "execution_count": 1,
   "metadata": {
    "collapsed": true
   },
   "outputs": [],
   "source": [
    "import numpy as np\n",
    "\n",
    "name_label_dict = {\n",
    "    0:   ('Nucleoplasm', 12885),\n",
    "    1:   ('Nuclear membrane', 1254),\n",
    "    2:   ('Nucleoli', 3621),\n",
    "    3:   ('Nucleoli fibrillar center', 1561),\n",
    "    4:   ('Nuclear speckles', 1858),\n",
    "    5:   ('Nuclear bodies', 2513),\n",
    "    6:   ('Endoplasmic reticulum', 1008),   \n",
    "    7:   ('Golgi apparatus', 2822),\n",
    "    8:   ('Peroxisomes', 53), \n",
    "    9:   ('Endosomes', 45),\n",
    "    10:  ('Lysosomes', 28),\n",
    "    11:  ('Intermediate filaments', 1093), \n",
    "    12:  ('Actin filaments', 688),\n",
    "    13:  ('Focal adhesion sites', 537),  \n",
    "    14:  ('Microtubules', 1066), \n",
    "    15:  ('Microtubule ends', 21),\n",
    "    16:  ('Cytokinetic bridge', 530),\n",
    "    17:  ('Mitotic spindle', 210),\n",
    "    18:  ('Microtubule organizing center', 902),\n",
    "    19:  ('Centrosome', 1482),\n",
    "    20:  ('Lipid droplets', 172),\n",
    "    21:  ('Plasma membrane', 3777),\n",
    "    22:  ('Cell junctions', 802),\n",
    "    23:  ('Mitochondria', 2965),\n",
    "    24:  ('Aggresome', 322),\n",
    "    25:  ('Cytosol', 8228),\n",
    "    26:  ('Cytoplasmic bodies', 328),   \n",
    "    27:  ('Rods &amp; rings', 11)\n",
    "    }\n",
    "\n",
    "n_labels = 50782\n",
    "\n",
    "def cls_wts(label_dict, mu=0.5):\n",
    "    prob_dict, prob_dict_bal = {}, {}\n",
    "    max_ent_wt = 1/28\n",
    "    for i in range(28):\n",
    "        prob_dict[i] = label_dict[i][1]/n_labels\n",
    "        if prob_dict[i] > max_ent_wt:\n",
    "            prob_dict_bal[i] = prob_dict[i]-mu*(prob_dict[i] - max_ent_wt)\n",
    "        else:\n",
    "            prob_dict_bal[i] = prob_dict[i]+mu*(max_ent_wt - prob_dict[i])            \n",
    "    return prob_dict, prob_dict_bal"
   ]
  },
  {
   "cell_type": "code",
   "execution_count": 3,
   "metadata": {},
   "outputs": [
    {
     "data": {
      "text/plain": [
       "({0: 0.25373163719428143,\n",
       "  1: 0.0246937891378835,\n",
       "  2: 0.07130479303690283,\n",
       "  3: 0.030739238312787995,\n",
       "  4: 0.03658776731912883,\n",
       "  5: 0.049486038360048834,\n",
       "  6: 0.01984955299121736,\n",
       "  7: 0.05557087156866606,\n",
       "  8: 0.0010436768933874208,\n",
       "  9: 0.0008861407585364893,\n",
       "  10: 0.00055137647197826,\n",
       "  11: 0.021523374424008507,\n",
       "  12: 0.013548107597180102,\n",
       "  13: 0.010574613051868773,\n",
       "  14: 0.020991689968886614,\n",
       "  15: 0.000413532353983695,\n",
       "  16: 0.010436768933874208,\n",
       "  17: 0.00413532353983695,\n",
       "  18: 0.017762199204442518,\n",
       "  19: 0.029183568981135048,\n",
       "  20: 0.0033870268992950256,\n",
       "  21: 0.074376747666496,\n",
       "  22: 0.015792997518805876,\n",
       "  23: 0.05838682997912646,\n",
       "  24: 0.00634082942774999,\n",
       "  25: 0.16202591469418298,\n",
       "  26: 0.006458981528888188,\n",
       "  27: 0.0002166121854200307},\n",
       " {0: 0.0357142857142857,\n",
       "  1: 0.03571428571428571,\n",
       "  2: 0.03571428571428571,\n",
       "  3: 0.03571428571428571,\n",
       "  4: 0.03571428571428571,\n",
       "  5: 0.03571428571428571,\n",
       "  6: 0.03571428571428571,\n",
       "  7: 0.03571428571428571,\n",
       "  8: 0.03571428571428571,\n",
       "  9: 0.03571428571428571,\n",
       "  10: 0.03571428571428571,\n",
       "  11: 0.03571428571428571,\n",
       "  12: 0.03571428571428571,\n",
       "  13: 0.03571428571428571,\n",
       "  14: 0.03571428571428571,\n",
       "  15: 0.03571428571428571,\n",
       "  16: 0.03571428571428571,\n",
       "  17: 0.03571428571428571,\n",
       "  18: 0.03571428571428571,\n",
       "  19: 0.03571428571428571,\n",
       "  20: 0.03571428571428571,\n",
       "  21: 0.03571428571428571,\n",
       "  22: 0.03571428571428571,\n",
       "  23: 0.03571428571428571,\n",
       "  24: 0.03571428571428571,\n",
       "  25: 0.0357142857142857,\n",
       "  26: 0.03571428571428571,\n",
       "  27: 0.03571428571428571})"
      ]
     },
     "execution_count": 3,
     "metadata": {},
     "output_type": "execute_result"
    }
   ],
   "source": [
    "cls_wts(name_label_dict, mu=1)"
   ]
  },
  {
   "cell_type": "code",
   "execution_count": null,
   "metadata": {
    "collapsed": true
   },
   "outputs": [],
   "source": []
  }
 ],
 "metadata": {
  "kernelspec": {
   "display_name": "tensorflow",
   "language": "python",
   "name": "tensorflow"
  },
  "language_info": {
   "codemirror_mode": {
    "name": "ipython",
    "version": 3
   },
   "file_extension": ".py",
   "mimetype": "text/x-python",
   "name": "python",
   "nbconvert_exporter": "python",
   "pygments_lexer": "ipython3",
   "version": "3.6.7"
  }
 },
 "nbformat": 4,
 "nbformat_minor": 2
}
