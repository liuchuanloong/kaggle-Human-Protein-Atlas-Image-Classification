{
 "cells": [
  {
   "cell_type": "code",
   "execution_count": null,
   "metadata": {},
   "outputs": [],
   "source": [
    "import pandas as pd\n",
    "import numpy as np"
   ]
  },
  {
   "cell_type": "code",
   "execution_count": null,
   "metadata": {
    "collapsed": true
   },
   "outputs": [],
   "source": [
    "f1 = pd.read_csv('./model101A_DenseASPP_122500.csv')\n",
    "f2 = pd.read_csv('./model101A_DenseASPP_122800.csv')\n",
    "f3 = pd.read_csv('./model101A_DenseASPP_123000.csv')"
   ]
  },
  {
   "cell_type": "code",
   "execution_count": null,
   "metadata": {
    "collapsed": true
   },
   "outputs": [],
   "source": [
    "ids1 = np.where(f1.Predicted.isnull())"
   ]
  },
  {
   "cell_type": "code",
   "execution_count": null,
   "metadata": {
    "collapsed": true
   },
   "outputs": [],
   "source": [
    "f1k = f1.iloc[ids1]"
   ]
  },
  {
   "cell_type": "code",
   "execution_count": null,
   "metadata": {
    "collapsed": true
   },
   "outputs": [],
   "source": [
    "f1_tmp = f1\n",
    "s1 = f1_tmp.set_index('Id')\n",
    "for i,id_ in enumerate(f1k.Id):\n",
    "    #print(f2.set_index('Id').loc[id_]['Predicted'])\n",
    "    s1.loc[id_]['Predicted'] = f2.set_index('Id').loc[id_]['Predicted']"
   ]
  },
  {
   "cell_type": "code",
   "execution_count": null,
   "metadata": {},
   "outputs": [],
   "source": [
    "# s1 = s1.set_index([0])\n",
    "s1k = s1.iloc[np.where(s1.Predicted.isnull())]\n",
    "print(len(s1k))\n",
    "# s1 = s1.set_index('Id')\n",
    "for i,id_ in enumerate(s1k.index):\n",
    "    #print(f2.set_index('Id').loc[id_]['Predicted'])\n",
    "    s1.loc[id_]['Predicted'] = f3.set_index('Id').loc[id_]['Predicted']\n",
    "\n",
    "s1k = s1.iloc[np.where(s1.Predicted.isnull())]\n",
    "print(len(s1k))\n",
    "# s1 = s1.set_index('Id')\n",
    "for i,id_ in enumerate(s1k.index):\n",
    "    #print(f2.set_index('Id').loc[id_]['Predicted'])\n",
    "    s1.loc[id_]['Predicted'] = 0\n",
    "s1.to_csv('./f1.csv',  index=[0])\n",
    "len(s1.iloc[np.where(s1.Predicted.isnull())])\n"
   ]
  },
  {
   "cell_type": "code",
   "execution_count": null,
   "metadata": {
    "collapsed": true
   },
   "outputs": [],
   "source": [
    "ids2 = np.where(f2.Predicted.isnull())\n",
    "f2k = f2.iloc[ids2]"
   ]
  },
  {
   "cell_type": "code",
   "execution_count": null,
   "metadata": {
    "collapsed": true
   },
   "outputs": [],
   "source": [
    "f2_tmp = f2\n",
    "s2 = f2_tmp.set_index('Id')\n",
    "for i,id_ in enumerate(f2k.Id):\n",
    "    #print(f2.set_index('Id').loc[id_]['Predicted'])\n",
    "    s2.loc[id_]['Predicted'] = f1.set_index('Id').loc[id_]['Predicted']"
   ]
  },
  {
   "cell_type": "code",
   "execution_count": null,
   "metadata": {},
   "outputs": [],
   "source": [
    "# s1 = s1.set_index([0])\n",
    "s2k = s2.iloc[np.where(s2.Predicted.isnull())]\n",
    "print(len(s2k))\n",
    "# s1 = s1.set_index('Id')\n",
    "for i,id_ in enumerate(s2k.index):\n",
    "    #print(f2.set_index('Id').loc[id_]['Predicted'])\n",
    "    s2.loc[id_]['Predicted'] = f3.set_index('Id').loc[id_]['Predicted']\n",
    "\n",
    "s2k = s2.iloc[np.where(s2.Predicted.isnull())]\n",
    "print(len(s2k))\n",
    "# s1 = s1.set_index('Id')\n",
    "for i,id_ in enumerate(s2k.index):\n",
    "    #print(f2.set_index('Id').loc[id_]['Predicted'])\n",
    "    s2.loc[id_]['Predicted'] = 0\n",
    "s2.to_csv('./f2.csv',  index=[0])\n",
    "len(s2.iloc[np.where(s2.Predicted.isnull())])"
   ]
  },
  {
   "cell_type": "code",
   "execution_count": null,
   "metadata": {
    "collapsed": true
   },
   "outputs": [],
   "source": [
    "ids3 = np.where(f3.Predicted.isnull())\n",
    "f3k = f3.iloc[ids3]"
   ]
  },
  {
   "cell_type": "code",
   "execution_count": null,
   "metadata": {
    "collapsed": true
   },
   "outputs": [],
   "source": [
    "f3_tmp = f3\n",
    "s3 = f3_tmp.set_index('Id')\n",
    "for i,id_ in enumerate(f3k.Id):\n",
    "    #print(f2.set_index('Id').loc[id_]['Predicted'])\n",
    "    s3.loc[id_]['Predicted'] = f1.set_index('Id').loc[id_]['Predicted']"
   ]
  },
  {
   "cell_type": "code",
   "execution_count": null,
   "metadata": {},
   "outputs": [],
   "source": [
    "# s1 = s1.set_index([0])\n",
    "s3k = s3.iloc[np.where(s3.Predicted.isnull())]\n",
    "print(len(s3k))\n",
    "# s1 = s1.set_index('Id')\n",
    "for i,id_ in enumerate(s3k.index):\n",
    "    #print(f2.set_index('Id').loc[id_]['Predicted'])\n",
    "    s3.loc[id_]['Predicted'] = f2.set_index('Id').loc[id_]['Predicted']\n",
    "\n",
    "s3k = s3.iloc[np.where(s3.Predicted.isnull())]\n",
    "print(len(s3k))\n",
    "# s1 = s1.set_index('Id')\n",
    "for i,id_ in enumerate(s3k.index):\n",
    "    #print(f2.set_index('Id').loc[id_]['Predicted'])\n",
    "    s3.loc[id_]['Predicted'] = 0\n",
    "s3.to_csv('./f3.csv',  index=[0])\n",
    "len(s3.iloc[np.where(s3.Predicted.isnull())])"
   ]
  },
  {
   "cell_type": "code",
   "execution_count": null,
   "metadata": {
    "collapsed": true
   },
   "outputs": [],
   "source": [
    "label_names = {\n",
    "    0:  \"Nucleoplasm\",  \n",
    "    1:  \"Nuclear membrane\",   \n",
    "    2:  \"Nucleoli\",   \n",
    "    3:  \"Nucleoli fibrillar center\",   \n",
    "    4:  \"Nuclear speckles\",\n",
    "    5:  \"Nuclear bodies\",   \n",
    "    6:  \"Endoplasmic reticulum\",   \n",
    "    7:  \"Golgi apparatus\",   \n",
    "    8:  \"Peroxisomes\",   \n",
    "    9:  \"Endosomes\",   \n",
    "    10:  \"Lysosomes\",   \n",
    "    11:  \"Intermediate filaments\",   \n",
    "    12:  \"Actin filaments\",   \n",
    "    13:  \"Focal adhesion sites\",   \n",
    "    14:  \"Microtubules\",   \n",
    "    15:  \"Microtubule ends\",   \n",
    "    16:  \"Cytokinetic bridge\",   \n",
    "    17:  \"Mitotic spindle\",   \n",
    "    18:  \"Microtubule organizing center\",   \n",
    "    19:  \"Centrosome\",   \n",
    "    20:  \"Lipid droplets\",   \n",
    "    21:  \"Plasma membrane\",   \n",
    "    22:  \"Cell junctions\",   \n",
    "    23:  \"Mitochondria\",   \n",
    "    24:  \"Aggresome\",   \n",
    "    25:  \"Cytosol\",   \n",
    "    26:  \"Cytoplasmic bodies\",   \n",
    "    27:  \"Rods & rings\"\n",
    "}\n",
    "\n",
    "def fill_targets(row):\n",
    "    tmp = np.array(str(row.Predicted).split(\" \")).astype(np.int)\n",
    "    for num in tmp:\n",
    "        name = label_names[int(num)]\n",
    "        row.loc[name] = 1\n",
    "    return row"
   ]
  },
  {
   "cell_type": "code",
   "execution_count": null,
   "metadata": {
    "collapsed": true
   },
   "outputs": [],
   "source": [
    "# s1 = s1.reset_index()"
   ]
  },
  {
   "cell_type": "code",
   "execution_count": null,
   "metadata": {
    "collapsed": true
   },
   "outputs": [],
   "source": [
    "for key in label_names.keys():\n",
    "    s1[label_names[key]] = 0\n",
    "import numpy as np\n",
    "s1 = s1.apply(fill_targets, axis=1)\n",
    "ss1 = s1\n",
    "s1.head()\n",
    "s1 = s1.drop(['Predicted'],axis=1)"
   ]
  },
  {
   "cell_type": "code",
   "execution_count": null,
   "metadata": {
    "collapsed": true
   },
   "outputs": [],
   "source": [
    "for key in label_names.keys():\n",
    "    s2[label_names[key]] = 0\n",
    "import numpy as np\n",
    "s2 = s2.apply(fill_targets, axis=1)\n",
    "ss2 = s2\n",
    "s2.head()\n",
    "s2 = s2.drop(['Predicted'],axis=1)"
   ]
  },
  {
   "cell_type": "code",
   "execution_count": null,
   "metadata": {
    "collapsed": true
   },
   "outputs": [],
   "source": [
    "for key in label_names.keys():\n",
    "    s3[label_names[key]] = 0\n",
    "import numpy as np\n",
    "s3 = s3.apply(fill_targets, axis=1)\n",
    "ss3 = s3\n",
    "s3.head()\n",
    "s3 = s3.drop(['Predicted'],axis=1)"
   ]
  },
  {
   "cell_type": "code",
   "execution_count": null,
   "metadata": {
    "collapsed": true
   },
   "outputs": [],
   "source": [
    "s = (s1 + s2 + s3) / 3"
   ]
  },
  {
   "cell_type": "code",
   "execution_count": null,
   "metadata": {
    "collapsed": true
   },
   "outputs": [],
   "source": [
    "# for p in s:\n",
    "#     p = np.where(np.array(p)>0.3)\n",
    "#     print(p)"
   ]
  },
  {
   "cell_type": "code",
   "execution_count": null,
   "metadata": {
    "collapsed": true
   },
   "outputs": [],
   "source": [
    "n = f1"
   ]
  },
  {
   "cell_type": "code",
   "execution_count": null,
   "metadata": {
    "collapsed": true
   },
   "outputs": [],
   "source": [
    "for i, p in enumerate(np.array(s).astype(np.float)): \n",
    "#     print(n.iloc[i].Predicted)\n",
    "#     print(str(np.where(p>0.5)[0]).replace('[', '').replace(']', ''))\n",
    "#     print(str(np.where(p>0.5)[0]))\n",
    "    n.iloc[i].Predicted = str(np.where(p>0.3)[0]).replace('[', '').replace(']', '').replace('  ','').strip()\n",
    "n.to_csv('./ddd.csv', index=False)    "
   ]
  },
  {
   "cell_type": "code",
   "execution_count": null,
   "metadata": {
    "collapsed": true
   },
   "outputs": [],
   "source": [
    "ddd = pd.read_csv('./ddd.csv')"
   ]
  },
  {
   "cell_type": "code",
   "execution_count": null,
   "metadata": {},
   "outputs": [],
   "source": [
    "idk = ddd.iloc[np.where(ddd.Predicted.isnull())]\n",
    "# n = n.iloc[idn]\n",
    "idk"
   ]
  },
  {
   "cell_type": "code",
   "execution_count": null,
   "metadata": {},
   "outputs": [],
   "source": [
    "print(len(idk))"
   ]
  },
  {
   "cell_type": "code",
   "execution_count": null,
   "metadata": {
    "collapsed": true
   },
   "outputs": [],
   "source": [
    "d_tmp = ddd\n",
    "d_tmp = d_tmp.set_index('Id')\n",
    "for i,id_ in enumerate(idk.Id):\n",
    "#     print(id_)\n",
    "#     print(ss1.loc[id_])\n",
    "#     print(ss1.loc[id_]['Predicted'])\n",
    "    d_tmp.loc[id_]['Predicted'] = ss1.loc[id_]['Predicted']"
   ]
  },
  {
   "cell_type": "code",
   "execution_count": null,
   "metadata": {
    "collapsed": true
   },
   "outputs": [],
   "source": [
    "# d_tmpk = d_tmp.iloc[np.where(d_tmp.Predicted.isnull())]\n",
    "# print(len(d_tmpk))\n",
    "# for i,id_ in enumerate(d_tmpk.index):\n",
    "#     d_tmp.loc[id_]['Predicted'] = ss2.loc[id_]['Predicted']\n",
    "\n",
    "# d_tmpk = d_tmp.iloc[np.where(d_tmp.Predicted.isnull())]\n",
    "# print(len(d_tmpk))\n",
    "# for i,id_ in enumerate(d_tmpk.index):\n",
    "#     d_tmp.loc[id_]['Predicted'] = ss3.loc[id_]['Predicted']\n",
    "# d_tmpk = d_tmp.iloc[np.where(d_tmp.Predicted.isnull())]\n",
    "# print(len(d_tmpk))\n",
    "\n",
    "d_tmp.to_csv('./final3.csv',  index=[0])"
   ]
  },
  {
   "cell_type": "code",
   "execution_count": null,
   "metadata": {
    "collapsed": true
   },
   "outputs": [],
   "source": []
  }
 ],
 "metadata": {
  "kernelspec": {
   "display_name": "py3.6",
   "language": "python",
   "name": "py3.6"
  },
  "language_info": {
   "codemirror_mode": {
    "name": "ipython",
    "version": 3
   },
   "file_extension": ".py",
   "mimetype": "text/x-python",
   "name": "python",
   "nbconvert_exporter": "python",
   "pygments_lexer": "ipython3",
   "version": "3.6.0"
  }
 },
 "nbformat": 4,
 "nbformat_minor": 2
}
