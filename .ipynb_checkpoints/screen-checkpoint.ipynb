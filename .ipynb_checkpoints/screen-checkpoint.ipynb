{
 "cells": [
  {
   "cell_type": "code",
   "execution_count": null,
   "metadata": {},
   "outputs": [],
   "source": [
    "import os\n",
    "import numpy as np\n",
    "import pandas as pd"
   ]
  },
  {
   "cell_type": "code",
   "execution_count": null,
   "metadata": {},
   "outputs": [],
   "source": [
    "labels = pd.read_csv('full_train.csv')\n",
    "labels.head()"
   ]
  },
  {
   "cell_type": "code",
   "execution_count": null,
   "metadata": {},
   "outputs": [],
   "source": [
    "colors = ['red','green','blue','yellow']\n",
    "exists = []\n",
    "notexists = []\n",
    "for k, img_id in enumerate(labels.Id):\n",
    "#     print(k, img_id)\n",
    "#     print(os.path.join('HPAv18',img_id + \"_\" + colors[0] + \".jpg\"))\n",
    "    if (os.path.exists(os.path.join('full_train',img_id + \"_\" + colors[0] + \".png\")) and\n",
    "    os.path.exists(os.path.join('full_train',img_id + \"_\" + colors[1] + \".png\")) and\n",
    "    os.path.exists(os.path.join('full_train',img_id + \"_\" + colors[2] + \".png\")) and\n",
    "    os.path.exists(os.path.join('full_train',img_id + \"_\" + colors[3] + \".png\"))):\n",
    "#         print('True')\n",
    "        exists.append(img_id)\n",
    "    else:\n",
    "#         print('False')\n",
    "        notexists.append(img_id)\n",
    "print(len(exists))\n",
    "print(len(notexists))\n",
    "notE = pd.DataFrame({'Id': notexists})\n",
    "notE.to_csv('notE.csv', index=False)"
   ]
  },
  {
   "cell_type": "code",
   "execution_count": null,
   "metadata": {},
   "outputs": [],
   "source": [
    "import os\n",
    "lists = os.listdir('train')\n",
    "lists"
   ]
  },
  {
   "cell_type": "code",
   "execution_count": null,
   "metadata": {},
   "outputs": [],
   "source": [
    "import shutil\n",
    "for k, id_ in enumerate(lists):\n",
    "    print(k, id_)\n",
    "    shutil.copyfile('train/'+id_,'full_train/'+id_)"
   ]
  },
  {
   "cell_type": "code",
   "execution_count": null,
   "metadata": {
    "collapsed": true
   },
   "outputs": [],
   "source": []
  }
 ],
 "metadata": {
  "kernelspec": {
   "display_name": "py3.6",
   "language": "python",
   "name": "py3.6"
  },
  "language_info": {
   "codemirror_mode": {
    "name": "ipython",
    "version": 3
   },
   "file_extension": ".py",
   "mimetype": "text/x-python",
   "name": "python",
   "nbconvert_exporter": "python",
   "pygments_lexer": "ipython3",
   "version": "3.6.0"
  }
 },
 "nbformat": 4,
 "nbformat_minor": 2
}
